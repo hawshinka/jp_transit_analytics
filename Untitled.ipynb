{
 "cells": [
  {
   "cell_type": "code",
   "execution_count": 1,
   "metadata": {},
   "outputs": [],
   "source": [
    "import pandas as pd\n",
    "import numpy as np\n",
    "import matplotlib.pyplot as plt\n",
    "%matplotlib inline"
   ]
  },
  {
   "cell_type": "code",
   "execution_count": 6,
   "metadata": {},
   "outputs": [
    {
     "data": {
      "text/html": [
       "<div>\n",
       "<style scoped>\n",
       "    .dataframe tbody tr th:only-of-type {\n",
       "        vertical-align: middle;\n",
       "    }\n",
       "\n",
       "    .dataframe tbody tr th {\n",
       "        vertical-align: top;\n",
       "    }\n",
       "\n",
       "    .dataframe thead th {\n",
       "        text-align: right;\n",
       "    }\n",
       "</style>\n",
       "<table border=\"1\" class=\"dataframe\">\n",
       "  <thead>\n",
       "    <tr style=\"text-align: right;\">\n",
       "      <th></th>\n",
       "      <th>Empresa</th>\n",
       "      <th>Linha</th>\n",
       "      <th>Carro</th>\n",
       "      <th>Cartao</th>\n",
       "      <th>DataHoraAcesso</th>\n",
       "      <th>TipoAcesso</th>\n",
       "      <th>TipoCartao</th>\n",
       "      <th>Tipo</th>\n",
       "    </tr>\n",
       "  </thead>\n",
       "  <tbody>\n",
       "    <tr>\n",
       "      <th>0</th>\n",
       "      <td>TRANSNACIONAL</td>\n",
       "      <td>301</td>\n",
       "      <td>7134</td>\n",
       "      <td>NaN</td>\n",
       "      <td>2017-12-27 04:20:30</td>\n",
       "      <td>DEB</td>\n",
       "      <td>Pagante</td>\n",
       "      <td>Pagante-DEB</td>\n",
       "    </tr>\n",
       "    <tr>\n",
       "      <th>1</th>\n",
       "      <td>TRANSNACIONAL</td>\n",
       "      <td>301</td>\n",
       "      <td>7134</td>\n",
       "      <td>2.008555e+09</td>\n",
       "      <td>2017-12-27 04:21:34</td>\n",
       "      <td>DEB</td>\n",
       "      <td>Comum</td>\n",
       "      <td>Comum-DEB</td>\n",
       "    </tr>\n",
       "    <tr>\n",
       "      <th>2</th>\n",
       "      <td>TRANSNACIONAL</td>\n",
       "      <td>301</td>\n",
       "      <td>7134</td>\n",
       "      <td>4.019573e+09</td>\n",
       "      <td>2017-12-27 04:22:44</td>\n",
       "      <td>DEB</td>\n",
       "      <td>Comum</td>\n",
       "      <td>Comum-DEB</td>\n",
       "    </tr>\n",
       "    <tr>\n",
       "      <th>3</th>\n",
       "      <td>TRANSNACIONAL</td>\n",
       "      <td>301</td>\n",
       "      <td>7134</td>\n",
       "      <td>3.389447e+09</td>\n",
       "      <td>2017-12-27 04:23:54</td>\n",
       "      <td>DEB</td>\n",
       "      <td>Funcionário</td>\n",
       "      <td>Funcionário-DEB</td>\n",
       "    </tr>\n",
       "    <tr>\n",
       "      <th>4</th>\n",
       "      <td>TRANSNACIONAL</td>\n",
       "      <td>301</td>\n",
       "      <td>7134</td>\n",
       "      <td>3.573404e+09</td>\n",
       "      <td>2017-12-27 04:24:38</td>\n",
       "      <td>DEB</td>\n",
       "      <td>Gratuito</td>\n",
       "      <td>Gratuito-DEB</td>\n",
       "    </tr>\n",
       "  </tbody>\n",
       "</table>\n",
       "</div>"
      ],
      "text/plain": [
       "         Empresa  Linha  Carro        Cartao      DataHoraAcesso TipoAcesso  \\\n",
       "0  TRANSNACIONAL    301   7134           NaN 2017-12-27 04:20:30        DEB   \n",
       "1  TRANSNACIONAL    301   7134  2.008555e+09 2017-12-27 04:21:34        DEB   \n",
       "2  TRANSNACIONAL    301   7134  4.019573e+09 2017-12-27 04:22:44        DEB   \n",
       "3  TRANSNACIONAL    301   7134  3.389447e+09 2017-12-27 04:23:54        DEB   \n",
       "4  TRANSNACIONAL    301   7134  3.573404e+09 2017-12-27 04:24:38        DEB   \n",
       "\n",
       "    TipoCartao             Tipo  \n",
       "0      Pagante      Pagante-DEB  \n",
       "1        Comum        Comum-DEB  \n",
       "2        Comum        Comum-DEB  \n",
       "3  Funcionário  Funcionário-DEB  \n",
       "4     Gratuito     Gratuito-DEB  "
      ]
     },
     "execution_count": 6,
     "metadata": {},
     "output_type": "execute_result"
    }
   ],
   "source": [
    "#importar dados de bilhetagem\n",
    "cartoes = pd.read_csv('ChapadaCartoes-0301-27122017.csv', delimiter=';')\n",
    "#formatar dados de bilhetagem\n",
    "cartoes['Tipo'] = cartoes.TipoCartao + \"-\" + cartoes.TipoAcesso\n",
    "cartoes['DataHoraAcesso'] =  pd.to_datetime(cartoes['DataHoraAcesso'])\n",
    "cartoes = cartoes.sort_values('DataHoraAcesso').reset_index(drop=True)\n",
    "cartoes.head()"
   ]
  },
  {
   "cell_type": "code",
   "execution_count": 7,
   "metadata": {},
   "outputs": [
    {
     "data": {
      "text/plain": [
       "(6226, 8)"
      ]
     },
     "execution_count": 7,
     "metadata": {},
     "output_type": "execute_result"
    }
   ],
   "source": [
    "cartoes.shape"
   ]
  },
  {
   "cell_type": "code",
   "execution_count": 8,
   "metadata": {},
   "outputs": [
    {
     "data": {
      "text/plain": [
       "Empresa                   object\n",
       "Linha                      int64\n",
       "Carro                      int64\n",
       "Cartao                   float64\n",
       "DataHoraAcesso    datetime64[ns]\n",
       "TipoAcesso                object\n",
       "TipoCartao                object\n",
       "Tipo                      object\n",
       "dtype: object"
      ]
     },
     "execution_count": 8,
     "metadata": {},
     "output_type": "execute_result"
    }
   ],
   "source": [
    "cartoes.dtypes"
   ]
  },
  {
   "cell_type": "code",
   "execution_count": 10,
   "metadata": {},
   "outputs": [
    {
     "data": {
      "text/plain": [
       "array(['Pagante-DEB', 'Comum-DEB', 'Funcionário-DEB', 'Gratuito-DEB',\n",
       "       'Estudante-DEB', 'Comum-INT', 'Estudante-INT'], dtype=object)"
      ]
     },
     "execution_count": 10,
     "metadata": {},
     "output_type": "execute_result"
    }
   ],
   "source": [
    "cartoes.Tipo.unique()"
   ]
  },
  {
   "cell_type": "code",
   "execution_count": 11,
   "metadata": {},
   "outputs": [
    {
     "name": "stderr",
     "output_type": "stream",
     "text": [
      "/home/ycaro/anaconda3/lib/python3.6/site-packages/ipykernel_launcher.py:9: FutureWarning: currently extract(expand=None) means expand=False (return Index/Series/DataFrame) but in a future version of pandas this will be changed to expand=True (return DataFrame)\n",
      "  if __name__ == '__main__':\n"
     ]
    },
    {
     "data": {
      "text/html": [
       "<div>\n",
       "<style scoped>\n",
       "    .dataframe tbody tr th:only-of-type {\n",
       "        vertical-align: middle;\n",
       "    }\n",
       "\n",
       "    .dataframe tbody tr th {\n",
       "        vertical-align: top;\n",
       "    }\n",
       "\n",
       "    .dataframe thead th {\n",
       "        text-align: right;\n",
       "    }\n",
       "</style>\n",
       "<table border=\"1\" class=\"dataframe\">\n",
       "  <thead>\n",
       "    <tr style=\"text-align: right;\">\n",
       "      <th></th>\n",
       "      <th>Parada</th>\n",
       "      <th>Veiculo</th>\n",
       "      <th>Rota</th>\n",
       "      <th>DataHoraAntesParada</th>\n",
       "      <th>DistanciaAntesParada</th>\n",
       "      <th>DataHoraDepoisParada</th>\n",
       "      <th>DistanciaDepoisParada</th>\n",
       "      <th>VelociadadeKmH</th>\n",
       "      <th>DataHoraMedianaParada</th>\n",
       "      <th>NumeroParada</th>\n",
       "    </tr>\n",
       "  </thead>\n",
       "  <tbody>\n",
       "    <tr>\n",
       "      <th>0</th>\n",
       "      <td>P65 V 301</td>\n",
       "      <td>7134</td>\n",
       "      <td>301</td>\n",
       "      <td>2017-12-27 04:14:29</td>\n",
       "      <td>90,1015625</td>\n",
       "      <td>2017-12-27 04:14:59</td>\n",
       "      <td>122,619140625</td>\n",
       "      <td>25,5263996124268</td>\n",
       "      <td>2017-12-27 04:14:44.000</td>\n",
       "      <td>65</td>\n",
       "    </tr>\n",
       "    <tr>\n",
       "      <th>1</th>\n",
       "      <td>P66 V 301</td>\n",
       "      <td>7134</td>\n",
       "      <td>301</td>\n",
       "      <td>2017-12-27 04:14:59</td>\n",
       "      <td>246,08203125</td>\n",
       "      <td>2017-12-27 04:15:29</td>\n",
       "      <td>58,216796875</td>\n",
       "      <td>36,515998840332</td>\n",
       "      <td>2017-12-27 04:15:14.000</td>\n",
       "      <td>66</td>\n",
       "    </tr>\n",
       "    <tr>\n",
       "      <th>2</th>\n",
       "      <td>P67 V 301</td>\n",
       "      <td>7134</td>\n",
       "      <td>301</td>\n",
       "      <td>2017-12-27 04:15:59</td>\n",
       "      <td>49,828125</td>\n",
       "      <td>2017-12-27 04:16:29</td>\n",
       "      <td>224,021484375</td>\n",
       "      <td>32,8619995117188</td>\n",
       "      <td>2017-12-27 04:16:14.000</td>\n",
       "      <td>67</td>\n",
       "    </tr>\n",
       "    <tr>\n",
       "      <th>3</th>\n",
       "      <td>P01 I 301</td>\n",
       "      <td>7134</td>\n",
       "      <td>301</td>\n",
       "      <td>2017-12-27 04:19:37</td>\n",
       "      <td>1,11361837387085</td>\n",
       "      <td>2017-12-27 04:19:54</td>\n",
       "      <td>16,5763812065125</td>\n",
       "      <td>3,74611759185791</td>\n",
       "      <td>2017-12-27 04:19:45.500</td>\n",
       "      <td>1</td>\n",
       "    </tr>\n",
       "    <tr>\n",
       "      <th>4</th>\n",
       "      <td>P03 I 301</td>\n",
       "      <td>7134</td>\n",
       "      <td>301</td>\n",
       "      <td>2017-12-27 04:19:54</td>\n",
       "      <td>265,246562957764</td>\n",
       "      <td>2017-12-27 04:20:49</td>\n",
       "      <td>128,553436279297</td>\n",
       "      <td>25,7759990692139</td>\n",
       "      <td>2017-12-27 04:20:21.500</td>\n",
       "      <td>3</td>\n",
       "    </tr>\n",
       "  </tbody>\n",
       "</table>\n",
       "</div>"
      ],
      "text/plain": [
       "      Parada  Veiculo  Rota DataHoraAntesParada DistanciaAntesParada  \\\n",
       "0  P65 V 301     7134   301 2017-12-27 04:14:29           90,1015625   \n",
       "1  P66 V 301     7134   301 2017-12-27 04:14:59         246,08203125   \n",
       "2  P67 V 301     7134   301 2017-12-27 04:15:59            49,828125   \n",
       "3  P01 I 301     7134   301 2017-12-27 04:19:37     1,11361837387085   \n",
       "4  P03 I 301     7134   301 2017-12-27 04:19:54     265,246562957764   \n",
       "\n",
       "  DataHoraDepoisParada DistanciaDepoisParada    VelociadadeKmH  \\\n",
       "0  2017-12-27 04:14:59         122,619140625  25,5263996124268   \n",
       "1  2017-12-27 04:15:29          58,216796875   36,515998840332   \n",
       "2  2017-12-27 04:16:29         224,021484375  32,8619995117188   \n",
       "3  2017-12-27 04:19:54      16,5763812065125  3,74611759185791   \n",
       "4  2017-12-27 04:20:49      128,553436279297  25,7759990692139   \n",
       "\n",
       "    DataHoraMedianaParada  NumeroParada  \n",
       "0 2017-12-27 04:14:44.000            65  \n",
       "1 2017-12-27 04:15:14.000            66  \n",
       "2 2017-12-27 04:16:14.000            67  \n",
       "3 2017-12-27 04:19:45.500             1  \n",
       "4 2017-12-27 04:20:21.500             3  "
      ]
     },
     "execution_count": 11,
     "metadata": {},
     "output_type": "execute_result"
    }
   ],
   "source": [
    "#importar dados de localização dos onibus\n",
    "passagens = pd.read_csv('PassagensParada-0301-27122017.csv', delimiter=';')\n",
    "#formatar dados de localização dos onibus\n",
    "passagens = passagens.drop('Unnamed: 8', axis=1)\n",
    "passagens['DataHoraAntesParada'] =  pd.to_datetime(passagens['DataHoraAntesParada'], format='%d/%m/%Y %H:%M:%S')\n",
    "passagens['DataHoraDepoisParada'] =  pd.to_datetime(passagens['DataHoraDepoisParada'], format='%d/%m/%Y %H:%M:%S')\n",
    "passagens['DataHoraMedianaParada'] = passagens['DataHoraAntesParada'] + ((passagens['DataHoraDepoisParada'] - passagens['DataHoraAntesParada'])/2)\n",
    "passagens = passagens.sort_values('DataHoraAntesParada').reset_index(drop=True)\n",
    "passagens['NumeroParada'] = pd.to_numeric(passagens.Parada.str.extract('([0-9][0-9])'))\n",
    "passagens.head()"
   ]
  },
  {
   "cell_type": "code",
   "execution_count": 12,
   "metadata": {},
   "outputs": [
    {
     "name": "stderr",
     "output_type": "stream",
     "text": [
      "/home/ycaro/anaconda3/lib/python3.6/site-packages/ipykernel_launcher.py:7: SettingWithCopyWarning: \n",
      "A value is trying to be set on a copy of a slice from a DataFrame\n",
      "\n",
      "See the caveats in the documentation: http://pandas.pydata.org/pandas-docs/stable/indexing.html#indexing-view-versus-copy\n",
      "  import sys\n",
      "/home/ycaro/anaconda3/lib/python3.6/site-packages/ipykernel_launcher.py:18: SettingWithCopyWarning: \n",
      "A value is trying to be set on a copy of a slice from a DataFrame\n",
      "\n",
      "See the caveats in the documentation: http://pandas.pydata.org/pandas-docs/stable/indexing.html#indexing-view-versus-copy\n"
     ]
    }
   ],
   "source": [
    "#separar viagens\n",
    "passagens['aux'] = 0\n",
    "passagens['Viagem'] = \"\"\n",
    "#analisa as viagens carro por carro\n",
    "for carro in passagens.Veiculo.unique():\n",
    "    #coluna aux: diferença enter o valor atual e anterior na coluna numero parada\n",
    "    passagens.aux[passagens.Veiculo==carro] = passagens[passagens.Veiculo==carro].NumeroParada.diff().abs()\n",
    "    #coluna aux: quando a diferença é menor que 10, substituir por 0\n",
    "    #quando a diferença para o valor anterior for pequena, aux será 0\n",
    "    passagens.aux[(passagens.Veiculo==carro) & ((passagens.aux.isnull()) | (passagens.aux<10))] = 0\n",
    "    #coluna aux: para todos os outros valores, substituir por 1\n",
    "    #quando a diferença para o valor anterior for grande (ex.: 68 para 1), aux será 1, sinalizando um degrau\n",
    "    passagens.aux[(passagens.Veiculo==carro) & (passagens.aux!=0)] = 1\n",
    "    #coluna aux: utilizar a soma cumulativa dos valoles na coluna\n",
    "    #entradas da primeira viagem terão aux 0, da segunda terão aux 1, da terceira aux 2...\n",
    "    passagens.aux[passagens.Veiculo==carro] = passagens.aux[passagens.Veiculo==carro].cumsum()\n",
    "    #concatenar Veiculo e aux para ids únicos para cada viagem\n",
    "    passagens.Viagem[passagens.Veiculo==carro] = pd.to_numeric(passagens.Veiculo[passagens.Veiculo==carro].astype('str') + passagens.aux[passagens.Veiculo==carro].astype('str'))"
   ]
  },
  {
   "cell_type": "code",
   "execution_count": 13,
   "metadata": {},
   "outputs": [
    {
     "data": {
      "text/html": [
       "<div>\n",
       "<style scoped>\n",
       "    .dataframe tbody tr th:only-of-type {\n",
       "        vertical-align: middle;\n",
       "    }\n",
       "\n",
       "    .dataframe tbody tr th {\n",
       "        vertical-align: top;\n",
       "    }\n",
       "\n",
       "    .dataframe thead th {\n",
       "        text-align: right;\n",
       "    }\n",
       "</style>\n",
       "<table border=\"1\" class=\"dataframe\">\n",
       "  <thead>\n",
       "    <tr style=\"text-align: right;\">\n",
       "      <th></th>\n",
       "      <th>Parada</th>\n",
       "      <th>Veiculo</th>\n",
       "      <th>Rota</th>\n",
       "      <th>DataHoraAntesParada</th>\n",
       "      <th>DistanciaAntesParada</th>\n",
       "      <th>DataHoraDepoisParada</th>\n",
       "      <th>DistanciaDepoisParada</th>\n",
       "      <th>VelociadadeKmH</th>\n",
       "      <th>DataHoraMedianaParada</th>\n",
       "      <th>NumeroParada</th>\n",
       "      <th>aux</th>\n",
       "      <th>Viagem</th>\n",
       "    </tr>\n",
       "  </thead>\n",
       "  <tbody>\n",
       "    <tr>\n",
       "      <th>0</th>\n",
       "      <td>P65 V 301</td>\n",
       "      <td>7134</td>\n",
       "      <td>301</td>\n",
       "      <td>2017-12-27 04:14:29</td>\n",
       "      <td>90,1015625</td>\n",
       "      <td>2017-12-27 04:14:59</td>\n",
       "      <td>122,619140625</td>\n",
       "      <td>25,5263996124268</td>\n",
       "      <td>2017-12-27 04:14:44.000</td>\n",
       "      <td>65</td>\n",
       "      <td>0.0</td>\n",
       "      <td>71340</td>\n",
       "    </tr>\n",
       "    <tr>\n",
       "      <th>1</th>\n",
       "      <td>P66 V 301</td>\n",
       "      <td>7134</td>\n",
       "      <td>301</td>\n",
       "      <td>2017-12-27 04:14:59</td>\n",
       "      <td>246,08203125</td>\n",
       "      <td>2017-12-27 04:15:29</td>\n",
       "      <td>58,216796875</td>\n",
       "      <td>36,515998840332</td>\n",
       "      <td>2017-12-27 04:15:14.000</td>\n",
       "      <td>66</td>\n",
       "      <td>0.0</td>\n",
       "      <td>71340</td>\n",
       "    </tr>\n",
       "    <tr>\n",
       "      <th>2</th>\n",
       "      <td>P67 V 301</td>\n",
       "      <td>7134</td>\n",
       "      <td>301</td>\n",
       "      <td>2017-12-27 04:15:59</td>\n",
       "      <td>49,828125</td>\n",
       "      <td>2017-12-27 04:16:29</td>\n",
       "      <td>224,021484375</td>\n",
       "      <td>32,8619995117188</td>\n",
       "      <td>2017-12-27 04:16:14.000</td>\n",
       "      <td>67</td>\n",
       "      <td>0.0</td>\n",
       "      <td>71340</td>\n",
       "    </tr>\n",
       "    <tr>\n",
       "      <th>3</th>\n",
       "      <td>P01 I 301</td>\n",
       "      <td>7134</td>\n",
       "      <td>301</td>\n",
       "      <td>2017-12-27 04:19:37</td>\n",
       "      <td>1,11361837387085</td>\n",
       "      <td>2017-12-27 04:19:54</td>\n",
       "      <td>16,5763812065125</td>\n",
       "      <td>3,74611759185791</td>\n",
       "      <td>2017-12-27 04:19:45.500</td>\n",
       "      <td>1</td>\n",
       "      <td>1.0</td>\n",
       "      <td>71341</td>\n",
       "    </tr>\n",
       "    <tr>\n",
       "      <th>4</th>\n",
       "      <td>P03 I 301</td>\n",
       "      <td>7134</td>\n",
       "      <td>301</td>\n",
       "      <td>2017-12-27 04:19:54</td>\n",
       "      <td>265,246562957764</td>\n",
       "      <td>2017-12-27 04:20:49</td>\n",
       "      <td>128,553436279297</td>\n",
       "      <td>25,7759990692139</td>\n",
       "      <td>2017-12-27 04:20:21.500</td>\n",
       "      <td>3</td>\n",
       "      <td>1.0</td>\n",
       "      <td>71341</td>\n",
       "    </tr>\n",
       "  </tbody>\n",
       "</table>\n",
       "</div>"
      ],
      "text/plain": [
       "      Parada  Veiculo  Rota DataHoraAntesParada DistanciaAntesParada  \\\n",
       "0  P65 V 301     7134   301 2017-12-27 04:14:29           90,1015625   \n",
       "1  P66 V 301     7134   301 2017-12-27 04:14:59         246,08203125   \n",
       "2  P67 V 301     7134   301 2017-12-27 04:15:59            49,828125   \n",
       "3  P01 I 301     7134   301 2017-12-27 04:19:37     1,11361837387085   \n",
       "4  P03 I 301     7134   301 2017-12-27 04:19:54     265,246562957764   \n",
       "\n",
       "  DataHoraDepoisParada DistanciaDepoisParada    VelociadadeKmH  \\\n",
       "0  2017-12-27 04:14:59         122,619140625  25,5263996124268   \n",
       "1  2017-12-27 04:15:29          58,216796875   36,515998840332   \n",
       "2  2017-12-27 04:16:29         224,021484375  32,8619995117188   \n",
       "3  2017-12-27 04:19:54      16,5763812065125  3,74611759185791   \n",
       "4  2017-12-27 04:20:49      128,553436279297  25,7759990692139   \n",
       "\n",
       "    DataHoraMedianaParada  NumeroParada  aux Viagem  \n",
       "0 2017-12-27 04:14:44.000            65  0.0  71340  \n",
       "1 2017-12-27 04:15:14.000            66  0.0  71340  \n",
       "2 2017-12-27 04:16:14.000            67  0.0  71340  \n",
       "3 2017-12-27 04:19:45.500             1  1.0  71341  \n",
       "4 2017-12-27 04:20:21.500             3  1.0  71341  "
      ]
     },
     "execution_count": 13,
     "metadata": {},
     "output_type": "execute_result"
    }
   ],
   "source": [
    "passagens.head()"
   ]
  },
  {
   "cell_type": "code",
   "execution_count": 14,
   "metadata": {},
   "outputs": [],
   "source": [
    "passagens2 = passagens.copy()\n",
    "#passagens2 = passagens2[~passagens2.Viagem.isin(passagens2.Viagem.value_counts()[passagens2.Viagem.value_counts().values<10].index)].sort_values('DataHoraAntesParada').reset_index(drop=True)"
   ]
  },
  {
   "cell_type": "code",
   "execution_count": 15,
   "metadata": {},
   "outputs": [],
   "source": [
    "#inserir primeira parada para viagens que não tem esse registro\n",
    "#analisa cada viagem\n",
    "for viagem in passagens2.Viagem.unique():\n",
    "    #resgata a primeira linha e verifica se o NumeroParada é 1, caso não...\n",
    "    if (passagens2[passagens2.Viagem==viagem].head(1).NumeroParada.values[0] != 1):\n",
    "        i = passagens2[passagens2.Viagem==viagem].head(1).index[0]\n",
    "        #copia a primeira linha\n",
    "        line = passagens2[passagens2.Viagem==viagem].head(1)\n",
    "        line.Parada = 'P01 I 301'\n",
    "        line.NumeroParada = 1\n",
    "        #utliza a hora do último registro da viagem anterior do mesmo carro, quando há\n",
    "        if ((viagem-1) in passagens2.Viagem.unique()):\n",
    "            line.DataHoraAntesParada = passagens2[passagens2.Viagem==(viagem-1)].tail(1).DataHoraAntesParada.values[0] + pd.Timedelta('00:00:01')\n",
    "        #insere a nova linha\n",
    "        passagens2 = pd.concat([passagens2.iloc[:i], pd.concat([line, passagens2.iloc[i:]])]).reset_index(drop=True)"
   ]
  },
  {
   "cell_type": "code",
   "execution_count": 17,
   "metadata": {},
   "outputs": [],
   "source": [
    "passagens2['Carro'] = passagens2['Veiculo']\n",
    "cartoes2 = pd.DataFrame()\n",
    "for carro in cartoes.Carro.unique():\n",
    "    cartoes2 = pd.concat([cartoes2, pd.merge_asof(cartoes[cartoes.Carro==carro], passagens2[passagens2.Veiculo==carro][['NumeroParada', 'DataHoraAntesParada', 'DataHoraDepoisParada', 'DataHoraMedianaParada', 'Viagem', 'Carro']], by='Carro', right_on='DataHoraAntesParada', left_on='DataHoraAcesso')])"
   ]
  },
  {
   "cell_type": "code",
   "execution_count": 9,
   "metadata": {},
   "outputs": [
    {
     "data": {
      "text/plain": [
       "array([7134, 7085, 7036, 7082, 7169, 7149, 7170, 7061, 7205, 7179, 7171,\n",
       "       7175])"
      ]
     },
     "execution_count": 9,
     "metadata": {},
     "output_type": "execute_result"
    }
   ],
   "source": [
    "cartoes.Carro.unique()"
   ]
  },
  {
   "cell_type": "code",
   "execution_count": 19,
   "metadata": {},
   "outputs": [
    {
     "data": {
      "text/plain": [
       "<matplotlib.axes._subplots.AxesSubplot at 0x7f9aca757cc0>"
      ]
     },
     "execution_count": 19,
     "metadata": {},
     "output_type": "execute_result"
    },
    {
     "data": {
      "image/png": "[encoded data removed]",
      "text/plain": [
       "<matplotlib.figure.Figure at 0x7f9acaeaaba8>"
      ]
     },
     "metadata": {},
     "output_type": "display_data"
    }
   ],
   "source": [
    "#selecionar carro para visualizar dados de viagens\n",
    "carro = 7134\n",
    "\n",
    "import seaborn as sns\n",
    "sns.set(rc={\"figure.figsize\": (20, 20)})\n",
    "cmap = sns.cubehelix_palette(light=1, as_cmap=True)\n",
    "sns.heatmap(pd.pivot_table(cartoes2[cartoes2.Carro==carro][['NumeroParada', 'Viagem']], index=['NumeroParada'], columns=['Viagem'], aggfunc=lambda x: len(x)), cmap=cmap, annot=True)"
   ]
  },
  {
   "cell_type": "code",
   "execution_count": null,
   "metadata": {},
   "outputs": [],
   "source": []
  },
  {
   "cell_type": "code",
   "execution_count": null,
   "metadata": {},
   "outputs": [],
   "source": []
  },
  {
   "cell_type": "code",
   "execution_count": null,
   "metadata": {},
   "outputs": [],
   "source": []
  }
 ],
 "metadata": {
  "kernelspec": {
   "display_name": "Python 3",
   "language": "python",
   "name": "python3"
  },
  "language_info": {
   "codemirror_mode": {
    "name": "ipython",
    "version": 3
   },
   "file_extension": ".py",
   "mimetype": "text/x-python",
   "name": "python",
   "nbconvert_exporter": "python",
   "pygments_lexer": "ipython3",
   "version": "3.6.4"
  }
 },
 "nbformat": 4,
 "nbformat_minor": 2
}
